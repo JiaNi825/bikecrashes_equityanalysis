{
 "cells": [
  {
   "cell_type": "markdown",
   "id": "98b86350-aae0-452d-baa6-80d6030edf53",
   "metadata": {},
   "source": [
    "# **Week 3 Census Data Exploration**\n",
    "### **Jia Ni**\n",
    "In this assignment, I conduct a series of analyses on the 2023 race data for all census tracts in LA County: [ACS Demographic and Housing Estimates](https://data.census.gov/table/ACSDP5Y2023.DP05?g=050XX00US06037$1400000&moe=false). Due to RAM capacity limitations, I divided this assignment into four notebooks. In this specific notebook, I analyzed the population distribution of different racial groups in LA County using boxplots and histograms."
   ]
  },
  {
   "cell_type": "markdown",
   "id": "e0593062-a801-4ed0-8b20-f7d6ec812cb8",
   "metadata": {},
   "source": [
    "### **Import the libraries**"
   ]
  },
  {
   "cell_type": "code",
   "execution_count": null,
   "id": "a5666134-e77f-48ce-a55f-a732fdfbd617",
   "metadata": {},
   "outputs": [],
   "source": [
    "import pandas as pd\n",
    "import geopandas as gpd"
   ]
  },
  {
   "cell_type": "markdown",
   "id": "440e9436-8a3e-4d7a-9be2-ae7f8047497c",
   "metadata": {},
   "source": [
    "### **Read and add shapefile to notebook**"
   ]
  },
  {
   "cell_type": "code",
   "execution_count": null,
   "id": "9f8f3e4d-2727-410b-bce3-768383f16759",
   "metadata": {},
   "outputs": [],
   "source": [
    "tracts = gpd.read_file('data/tl_2023_06037_faces.zip')\n",
    "tracts.head()"
   ]
  },
  {
   "cell_type": "markdown",
   "id": "bf58094a-12b6-4b9c-b82c-30bddce80997",
   "metadata": {},
   "source": [
    "### **Datatype for each column**"
   ]
  },
  {
   "cell_type": "code",
   "execution_count": null,
   "id": "d82a614d-8ac8-44a9-a1cd-00bbff4f4b0f",
   "metadata": {},
   "outputs": [],
   "source": [
    "tracts.info(verbose=True, show_counts=True)"
   ]
  },
  {
   "cell_type": "markdown",
   "id": "b73df76d-6f32-41a6-bd72-cef654327c06",
   "metadata": {},
   "source": [
    "### **Create a new columns \"FIPS\" to generate unique identifiers for each census tract**"
   ]
  },
  {
   "cell_type": "code",
   "execution_count": null,
   "id": "9b16e7a7-4475-474a-9e08-2bb44ee997ec",
   "metadata": {},
   "outputs": [],
   "source": [
    "tracts['FIPS'] ='06' + '037' + tracts['TRACTCE20']\n",
    "\n",
    "# Select only the \"FIPS\" and \"geometry\" columns from the DataFrame\n",
    "tracts = tracts[['FIPS','geometry']]\n",
    "tracts.head()"
   ]
  },
  {
   "cell_type": "markdown",
   "id": "ce543e18-de61-4d91-a03a-18e69a5ed37b",
   "metadata": {},
   "source": [
    "### **Merge geometries that share the same \"FIPS\"**"
   ]
  },
  {
   "cell_type": "code",
   "execution_count": null,
   "id": "bbfd8ce2-4798-4381-913b-27db81cc73fe",
   "metadata": {},
   "outputs": [],
   "source": [
    "tracts_grouped = tracts.dissolve(by=\"FIPS\").reset_index()\n",
    "tracts_grouped.head()"
   ]
  },
  {
   "cell_type": "code",
   "execution_count": null,
   "id": "66b3763e-1bf7-4ee5-a402-6f90a14d15a8",
   "metadata": {},
   "outputs": [],
   "source": [
    "# Detailed information\n",
    "tracts_grouped.info(verbose=True, show_counts=True)"
   ]
  },
  {
   "cell_type": "code",
   "execution_count": null,
   "id": "d4f2e61b-76b0-4704-9507-159f66d64426",
   "metadata": {},
   "outputs": [],
   "source": [
    "# Export\n",
    "tracts_grouped.to_file(\"data/tracts_grouped.geojson\", driver=\"GeoJSON\")"
   ]
  },
  {
   "cell_type": "code",
   "execution_count": null,
   "id": "6a969665-e02e-4d23-aaec-2cb3295034f4",
   "metadata": {},
   "outputs": [],
   "source": [
    "# Read and add csv to the notebook\n",
    "race = pd.read_csv('data/2023_race_cleaned.csv', encoding = 'utf8', dtype = {'FIPS': str})\n",
    "race.head()"
   ]
  },
  {
   "cell_type": "code",
   "execution_count": null,
   "id": "03d5d428-f14f-4188-b9ba-633597b6878b",
   "metadata": {},
   "outputs": [],
   "source": [
    "# Detailed information\n",
    "race.info(verbose=True, show_counts=True)"
   ]
  },
  {
   "cell_type": "markdown",
   "id": "936ac48a-48cd-44de-a908-7297827c13ec",
   "metadata": {},
   "source": [
    "### **Extract and rename the columns**"
   ]
  },
  {
   "cell_type": "code",
   "execution_count": null,
   "id": "f0ae997a-dc10-4a67-a4e6-04d0fb6251b2",
   "metadata": {},
   "outputs": [],
   "source": [
    "# Extract\n",
    "columns_to_keep = ['FIPS',\n",
    "                   'DP05_0037E',\n",
    "                   'DP05_0038E',\n",
    "                   'DP05_0039E',\n",
    "                   'DP05_0047E',\n",
    "                   'DP05_0055E',\n",
    "                   'DP05_0060E',\n",
    "                   'DP05_0061E',\n",
    "                   'DP05_0037PE',\n",
    "                   'DP05_0038PE',\n",
    "                   'DP05_0039PE',\n",
    "                   'DP05_0047PE',\n",
    "                   'DP05_0055PE',\n",
    "                   'DP05_0060PE',\n",
    "                   'DP05_0061PE']\n",
    "race = race[columns_to_keep]\n",
    "race.head()"
   ]
  },
  {
   "cell_type": "code",
   "execution_count": null,
   "id": "0ce17862-64a9-425b-98a0-7146975530f4",
   "metadata": {},
   "outputs": [],
   "source": [
    "# Rename\n",
    "race.columns = ['FIPS',\n",
    "                'White',\n",
    "                'Black or African American',\n",
    "                'American Indian and Alaska Native',\n",
    "                'Asian',\n",
    "                'Native Hawaiian and Other Pacific Islander',\n",
    "                'Some Other Race',\n",
    "                'Two or More Races',\n",
    "                'White_Percent',\n",
    "                'Black or African American_Percent',\n",
    "                'American Indian and Alaska Native_Percent',\n",
    "                'Asian_Percent',\n",
    "                'Native Hawaiian and Other Pacific Islander_Percent',\n",
    "                'Some Other Race_Percent',\n",
    "                'Two or More Races_Percent']"
   ]
  },
  {
   "cell_type": "markdown",
   "id": "e3f4f736-f3c0-4c29-a93c-6e62c4cba6b0",
   "metadata": {},
   "source": [
    "### **Identify and remove the mismatched FIPS**"
   ]
  },
  {
   "cell_type": "code",
   "execution_count": null,
   "id": "f1be7ed3-781c-4608-bc4e-c75f6dadfa56",
   "metadata": {},
   "outputs": [],
   "source": [
    "# Identify\n",
    "tracts_fips = set(tracts_grouped[\"FIPS\"])\n",
    "race_fips = set(race[\"FIPS\"])\n",
    "extra_fips = tracts_fips - race_fips\n",
    "extra_fips"
   ]
  },
  {
   "cell_type": "code",
   "execution_count": null,
   "id": "b321c047-520b-4c90-9e41-f9cd75ea5cca",
   "metadata": {},
   "outputs": [],
   "source": [
    "# Remove\n",
    "tracts_cleaned = tracts_grouped[~tracts_grouped[\"FIPS\"].isin(extra_fips)]\n",
    "\n",
    "# Output cleaned data\n",
    "tracts_cleaned.info(verbose=True, show_counts=True)"
   ]
  },
  {
   "cell_type": "markdown",
   "id": "3798c9e8-9c6f-452b-b830-aa5316c9d4bc",
   "metadata": {},
   "source": [
    "### **Merge the two dataframes based on \"FIPS\"**"
   ]
  },
  {
   "cell_type": "code",
   "execution_count": null,
   "id": "09a65fa8-9a98-4086-8829-4060343874c7",
   "metadata": {},
   "outputs": [],
   "source": [
    "tracts_race=tracts_cleaned.merge(race,on=\"FIPS\")\n",
    "tracts_race.head()"
   ]
  },
  {
   "cell_type": "markdown",
   "id": "255300c2-94a1-4fc2-be95-ec655ec686ef",
   "metadata": {},
   "source": [
    "### **Export the GeoDataFrame to a GeoJSON file**"
   ]
  },
  {
   "cell_type": "code",
   "execution_count": null,
   "id": "899cf925-9586-4eb5-9a08-f3b4a859e3a2",
   "metadata": {},
   "outputs": [],
   "source": [
    "tracts_race.to_file(\"data/tracts_race.geojson\", driver=\"GeoJSON\")"
   ]
  },
  {
   "cell_type": "markdown",
   "id": "7aec5b4b-a1e4-428a-b47c-15097fbb0ca3",
   "metadata": {},
   "source": [
    "### **Import the library**"
   ]
  },
  {
   "cell_type": "code",
   "execution_count": null,
   "id": "47e5c937-42b7-4b98-94ef-c50d865f2272",
   "metadata": {},
   "outputs": [],
   "source": [
    "import matplotlib.pyplot as plt"
   ]
  },
  {
   "cell_type": "markdown",
   "id": "626fa14b-c401-448e-8561-78f14f329c1a",
   "metadata": {},
   "source": [
    "### **Create a box plot of the population distribution by race**"
   ]
  },
  {
   "cell_type": "code",
   "execution_count": null,
   "id": "dd2dc4ee-7ab8-46d7-afd2-6ff8ec95b54a",
   "metadata": {},
   "outputs": [],
   "source": [
    "race_columns = [\"White\", \"Black or African American\", \"American Indian and Alaska Native\", \"Asian\", \"Native Hawaiian and Other Pacific Islander\", \"Some Other Race\", \"Two or More Races\"]"
   ]
  },
  {
   "cell_type": "code",
   "execution_count": null,
   "id": "c237d109-aec3-4a8c-89c1-d8d21ffdb232",
   "metadata": {},
   "outputs": [],
   "source": [
    "plt.figure(figsize = (16,8))\n",
    "tracts_race[race_columns].boxplot(patch_artist = True,\n",
    "                                  boxprops=dict(facecolor=\"lightyellow\", color='#b0ab9b', linewidth=1.5, alpha = 0.7),\n",
    "                                  medianprops = dict(color='#80795b', linewidth=3),\n",
    "                                  whiskerprops = dict(color='#b0ab9b', linewidth=1.5),\n",
    "                                  capprops = dict(color='#b0ab9b', linewidth=2),\n",
    "                                  flierprops = dict(marker=\"x\",  markeredgecolor='#b0ab9b', markersize=6))\n",
    "\n",
    "plt.title(\"Population Distribution by Race in LA County\", fontsize=14, fontweight='bold', pad = 15)\n",
    "plt.ylabel(\"Population Count\", fontsize=12, fontweight='bold', labelpad = 10)\n",
    "plt.xlabel(\"Race\", fontsize=12, fontweight='bold', labelpad = 10)\n",
    "plt.yticks(fontsize = 10)\n",
    "plt.xticks(ticks=range(1, len(race_columns) + 1),\n",
    "           labels=[\"White\", \"Black or\\nAfrican American\", \"American Indian and\\nAlaska Native\", \"Asian\", \"Native Hawaiian and\\nOther Pacific Islander\", \"Some Other Race\", \"Two or\\nMore Races\"],\n",
    "          fontsize = 10)\n",
    "plt.grid(axis=\"y\", linestyle=\"--\", alpha=0.7)\n",
    "\n",
    "plt.savefig(\"population_distribution_by_race.png\", dpi=300, bbox_inches=\"tight\")\n",
    "\n",
    "plt.show()"
   ]
  },
  {
   "cell_type": "markdown",
   "id": "0d361dd2-8317-48d4-b72f-4bfa025cfaba",
   "metadata": {},
   "source": [
    "### **Create histograms of population distributions of different racial groups across census tracts**"
   ]
  },
  {
   "cell_type": "code",
   "execution_count": null,
   "id": "4bdba0d8-2f92-4d68-9c76-18319885dc11",
   "metadata": {},
   "outputs": [],
   "source": [
    "fig, axes = plt.subplots(2, 4, figsize=(24, 12), gridspec_kw={'hspace': 0.3, 'wspace': 0.3})\n",
    "axes = axes.flatten()\n",
    "\n",
    "colors = ['#ceebf2', '#deedc0', '#768fe8', '#ff9eb5', '#fcac77', '#ffeb9c', \"lightgray\"]\n",
    "\n",
    "for i, (column, color) in enumerate(zip(race_columns, colors)):\n",
    "    ax = axes[i]\n",
    "    ax.hist(tracts_race[column], bins=25, color=color, edgecolor=\"gray\", alpha=0.7)\n",
    "    ax.set_title(column, fontsize=12, fontweight=\"bold\")\n",
    "    ax.set_xlabel(\"Population\", fontsize=10, fontweight=\"bold\")\n",
    "    ax.set_ylabel(\"Frequency\", fontsize=10, fontweight=\"bold\")\n",
    "    ax.grid(axis=\"y\", linestyle=\"--\", alpha=0.7)\n",
    "\n",
    "for j in range(len(race_columns), len(axes)):\n",
    "    fig.delaxes(axes[j])\n",
    "\n",
    "plt.tight_layout()\n",
    "\n",
    "plt.savefig(\"histograms_of_population_distributions_of_different_racial_groups.png\", dpi=300, bbox_inches=\"tight\")\n",
    "\n",
    "plt.show()"
   ]
  }
 ],
 "metadata": {
  "kernelspec": {
   "display_name": "Python 3 (ipykernel)",
   "language": "python",
   "name": "python3"
  },
  "language_info": {
   "codemirror_mode": {
    "name": "ipython",
    "version": 3
   },
   "file_extension": ".py",
   "mimetype": "text/x-python",
   "name": "python",
   "nbconvert_exporter": "python",
   "pygments_lexer": "ipython3",
   "version": "3.11.9"
  }
 },
 "nbformat": 4,
 "nbformat_minor": 5
}
