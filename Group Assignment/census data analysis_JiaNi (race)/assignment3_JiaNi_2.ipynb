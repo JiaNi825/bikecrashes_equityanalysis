{
 "cells": [
  {
   "cell_type": "markdown",
   "id": "03613305-8756-40be-8d0c-3c67db93ed73",
   "metadata": {},
   "source": [
    "# **Week 3 Census Data Exploration**\n",
    "### **Jia Ni**\n",
    "In this assignment, I conduct a series of analyses on the 2023 race data for all census tracts in LA County: [ACS Demographic and Housing Estimates](https://data.census.gov/table/ACSDP5Y2023.DP05?g=050XX00US06037$1400000&moe=false). Due to RAM capacity limitations, I divided this assignment into four notebooks. In this specific notebook, I visualized the population distribution of different racial groups in LA County on the base map."
   ]
  },
  {
   "cell_type": "markdown",
   "id": "9a18a37f-3338-4ff7-863b-4306c698bccc",
   "metadata": {},
   "source": [
    "### **Import the libraries**"
   ]
  },
  {
   "cell_type": "code",
   "execution_count": 1,
   "id": "184120d9-a7a3-44ea-a469-f8b8521b1a6a",
   "metadata": {},
   "outputs": [],
   "source": [
    "import pandas as pd\n",
    "import geopandas as gpd\n",
    "import folium"
   ]
  },
  {
   "cell_type": "markdown",
   "id": "56682c09-3b6e-4bff-8f58-394b5f8ceea4",
   "metadata": {},
   "source": [
    "### **Read and add GeoJSON file to notebook**"
   ]
  },
  {
   "cell_type": "code",
   "execution_count": 2,
   "id": "572088f8-00a1-4567-a3dc-4b00557aefda",
   "metadata": {
    "scrolled": true
   },
   "outputs": [
    {
     "data": {
      "text/html": [
       "<div>\n",
       "<style scoped>\n",
       "    .dataframe tbody tr th:only-of-type {\n",
       "        vertical-align: middle;\n",
       "    }\n",
       "\n",
       "    .dataframe tbody tr th {\n",
       "        vertical-align: top;\n",
       "    }\n",
       "\n",
       "    .dataframe thead th {\n",
       "        text-align: right;\n",
       "    }\n",
       "</style>\n",
       "<table border=\"1\" class=\"dataframe\">\n",
       "  <thead>\n",
       "    <tr style=\"text-align: right;\">\n",
       "      <th></th>\n",
       "      <th>FIPS</th>\n",
       "      <th>White</th>\n",
       "      <th>Black or African American</th>\n",
       "      <th>American Indian and Alaska Native</th>\n",
       "      <th>Asian</th>\n",
       "      <th>Native Hawaiian and Other Pacific Islander</th>\n",
       "      <th>Some Other Race</th>\n",
       "      <th>Two or More Races</th>\n",
       "      <th>White_Percent</th>\n",
       "      <th>Black or African American_Percent</th>\n",
       "      <th>American Indian and Alaska Native_Percent</th>\n",
       "      <th>Asian_Percent</th>\n",
       "      <th>Native Hawaiian and Other Pacific Islander_Percent</th>\n",
       "      <th>Some Other Race_Percent</th>\n",
       "      <th>Two or More Races_Percent</th>\n",
       "      <th>geometry</th>\n",
       "    </tr>\n",
       "  </thead>\n",
       "  <tbody>\n",
       "    <tr>\n",
       "      <th>0</th>\n",
       "      <td>06037101110</td>\n",
       "      <td>2367</td>\n",
       "      <td>146</td>\n",
       "      <td>4</td>\n",
       "      <td>292</td>\n",
       "      <td>5</td>\n",
       "      <td>558</td>\n",
       "      <td>780</td>\n",
       "      <td>57</td>\n",
       "      <td>3.5</td>\n",
       "      <td>0.1</td>\n",
       "      <td>7</td>\n",
       "      <td>0.1</td>\n",
       "      <td>13.4</td>\n",
       "      <td>18.8</td>\n",
       "      <td>POLYGON ((-118.29418 34.25595, -118.29434 34.2...</td>\n",
       "    </tr>\n",
       "    <tr>\n",
       "      <th>1</th>\n",
       "      <td>06037101122</td>\n",
       "      <td>3047</td>\n",
       "      <td>25</td>\n",
       "      <td>24</td>\n",
       "      <td>544</td>\n",
       "      <td>0</td>\n",
       "      <td>277</td>\n",
       "      <td>281</td>\n",
       "      <td>72.6</td>\n",
       "      <td>0.6</td>\n",
       "      <td>0.6</td>\n",
       "      <td>13</td>\n",
       "      <td>0</td>\n",
       "      <td>6.6</td>\n",
       "      <td>6.7</td>\n",
       "      <td>POLYGON ((-118.29567 34.26321, -118.29602 34.2...</td>\n",
       "    </tr>\n",
       "    <tr>\n",
       "      <th>2</th>\n",
       "      <td>06037101220</td>\n",
       "      <td>1704</td>\n",
       "      <td>10</td>\n",
       "      <td>87</td>\n",
       "      <td>490</td>\n",
       "      <td>0</td>\n",
       "      <td>517</td>\n",
       "      <td>626</td>\n",
       "      <td>49.6</td>\n",
       "      <td>0.3</td>\n",
       "      <td>2.5</td>\n",
       "      <td>14.3</td>\n",
       "      <td>0</td>\n",
       "      <td>15.1</td>\n",
       "      <td>18.2</td>\n",
       "      <td>POLYGON ((-118.2842 34.24792, -118.28592 34.24...</td>\n",
       "    </tr>\n",
       "    <tr>\n",
       "      <th>3</th>\n",
       "      <td>06037101221</td>\n",
       "      <td>1835</td>\n",
       "      <td>150</td>\n",
       "      <td>27</td>\n",
       "      <td>390</td>\n",
       "      <td>0</td>\n",
       "      <td>805</td>\n",
       "      <td>724</td>\n",
       "      <td>46.7</td>\n",
       "      <td>3.8</td>\n",
       "      <td>0.7</td>\n",
       "      <td>9.9</td>\n",
       "      <td>0</td>\n",
       "      <td>20.5</td>\n",
       "      <td>18.4</td>\n",
       "      <td>POLYGON ((-118.28862 34.2523, -118.2898 34.252...</td>\n",
       "    </tr>\n",
       "    <tr>\n",
       "      <th>4</th>\n",
       "      <td>06037101222</td>\n",
       "      <td>1417</td>\n",
       "      <td>14</td>\n",
       "      <td>80</td>\n",
       "      <td>51</td>\n",
       "      <td>25</td>\n",
       "      <td>55</td>\n",
       "      <td>930</td>\n",
       "      <td>55.1</td>\n",
       "      <td>0.5</td>\n",
       "      <td>3.1</td>\n",
       "      <td>2</td>\n",
       "      <td>1</td>\n",
       "      <td>2.1</td>\n",
       "      <td>36.2</td>\n",
       "      <td>POLYGON ((-118.28968 34.24908, -118.28983 34.2...</td>\n",
       "    </tr>\n",
       "  </tbody>\n",
       "</table>\n",
       "</div>"
      ],
      "text/plain": [
       "          FIPS  White  Black or African American  \\\n",
       "0  06037101110   2367                        146   \n",
       "1  06037101122   3047                         25   \n",
       "2  06037101220   1704                         10   \n",
       "3  06037101221   1835                        150   \n",
       "4  06037101222   1417                         14   \n",
       "\n",
       "   American Indian and Alaska Native  Asian  \\\n",
       "0                                  4    292   \n",
       "1                                 24    544   \n",
       "2                                 87    490   \n",
       "3                                 27    390   \n",
       "4                                 80     51   \n",
       "\n",
       "   Native Hawaiian and Other Pacific Islander  Some Other Race  \\\n",
       "0                                           5              558   \n",
       "1                                           0              277   \n",
       "2                                           0              517   \n",
       "3                                           0              805   \n",
       "4                                          25               55   \n",
       "\n",
       "   Two or More Races White_Percent Black or African American_Percent  \\\n",
       "0                780            57                               3.5   \n",
       "1                281          72.6                               0.6   \n",
       "2                626          49.6                               0.3   \n",
       "3                724          46.7                               3.8   \n",
       "4                930          55.1                               0.5   \n",
       "\n",
       "  American Indian and Alaska Native_Percent Asian_Percent  \\\n",
       "0                                       0.1             7   \n",
       "1                                       0.6            13   \n",
       "2                                       2.5          14.3   \n",
       "3                                       0.7           9.9   \n",
       "4                                       3.1             2   \n",
       "\n",
       "  Native Hawaiian and Other Pacific Islander_Percent Some Other Race_Percent  \\\n",
       "0                                                0.1                    13.4   \n",
       "1                                                  0                     6.6   \n",
       "2                                                  0                    15.1   \n",
       "3                                                  0                    20.5   \n",
       "4                                                  1                     2.1   \n",
       "\n",
       "  Two or More Races_Percent                                           geometry  \n",
       "0                      18.8  POLYGON ((-118.29418 34.25595, -118.29434 34.2...  \n",
       "1                       6.7  POLYGON ((-118.29567 34.26321, -118.29602 34.2...  \n",
       "2                      18.2  POLYGON ((-118.2842 34.24792, -118.28592 34.24...  \n",
       "3                      18.4  POLYGON ((-118.28862 34.2523, -118.2898 34.252...  \n",
       "4                      36.2  POLYGON ((-118.28968 34.24908, -118.28983 34.2...  "
      ]
     },
     "execution_count": 2,
     "metadata": {},
     "output_type": "execute_result"
    }
   ],
   "source": [
    "tracts_race = gpd.read_file(\"data/tracts_race.geojson\")\n",
    "tracts_race.head()"
   ]
  },
  {
   "cell_type": "markdown",
   "id": "b411171d-2922-4271-ad2e-52e8ee10bddd",
   "metadata": {},
   "source": [
    "### **Ensure compatibility with mapping libraries**"
   ]
  },
  {
   "cell_type": "code",
   "execution_count": 3,
   "id": "3bd09be4-7c09-41d1-b3b7-59945df9f7d5",
   "metadata": {},
   "outputs": [],
   "source": [
    "if tracts_race.crs.to_epsg() != 4326:\n",
    "    tracts_race = tracts_race.to_crs(epsg=4326)"
   ]
  },
  {
   "cell_type": "markdown",
   "id": "abf391fb-8654-4ad1-9134-2831a7414e03",
   "metadata": {},
   "source": [
    "### **Find the center of the spatial extent**"
   ]
  },
  {
   "cell_type": "code",
   "execution_count": 4,
   "id": "6c797021-35d9-43b7-a77f-2596465fb2f8",
   "metadata": {},
   "outputs": [],
   "source": [
    "bounds = tracts_race.total_bounds\n",
    "minx, miny, maxx, maxy = bounds\n",
    "center_lat = (miny + maxy) / 2\n",
    "center_lon = (minx + maxx) / 2"
   ]
  },
  {
   "cell_type": "markdown",
   "id": "6134308e-c94d-43c3-943f-7e4249281f5c",
   "metadata": {},
   "source": [
    "### **Prepare the data and set up the base map for further visualization**"
   ]
  },
  {
   "cell_type": "code",
   "execution_count": 5,
   "id": "50a098ff-d092-4d83-b6cb-29bcc36e346a",
   "metadata": {},
   "outputs": [
    {
     "name": "stdout",
     "output_type": "stream",
     "text": [
      "float64\n"
     ]
    }
   ],
   "source": [
    "# Convert the White column to float type\n",
    "tracts_race[\"White\"] = tracts_race[\"White\"].astype(float)\n",
    "print(tracts_race[\"White\"].dtype)"
   ]
  },
  {
   "cell_type": "code",
   "execution_count": 6,
   "id": "4a40371e-8b26-48ed-96c5-248eddf4e262",
   "metadata": {},
   "outputs": [
    {
     "name": "stdout",
     "output_type": "stream",
     "text": [
      "26\n"
     ]
    }
   ],
   "source": [
    "# Count the number of tracts with no White population\n",
    "print((tracts_race[\"White\"] == 0).sum())"
   ]
  },
  {
   "cell_type": "code",
   "execution_count": 7,
   "id": "fcf4eab0-8a22-474b-ac1c-e2cda51be677",
   "metadata": {},
   "outputs": [],
   "source": [
    "# Split the data into two groups\n",
    "null_tracts_w = tracts_race[tracts_race[\"White\"] == 0]\n",
    "nonnull_tracts_w = tracts_race[tracts_race[\"White\"] != 0]"
   ]
  },
  {
   "cell_type": "code",
   "execution_count": 8,
   "id": "e8bb1973-9076-42fd-9e25-73e648068d52",
   "metadata": {
    "scrolled": true
   },
   "outputs": [],
   "source": [
    "# Set up the base map\n",
    "m_w = folium.Map(location=[center_lat, center_lon], tiles=\"cartodb positron\")\n",
    "m_w.fit_bounds([[miny, minx], [maxy, maxx]])"
   ]
  },
  {
   "cell_type": "markdown",
   "id": "290ffd44-9b88-484e-a5de-44b1567784c4",
   "metadata": {},
   "source": [
    "### **Create a layered map of the White population**"
   ]
  },
  {
   "cell_type": "code",
   "execution_count": 9,
   "id": "3bf788ea-7403-4853-b6c3-124c99e485d0",
   "metadata": {},
   "outputs": [
    {
     "data": {
      "text/plain": [
       "<folium.features.GeoJson at 0x7bcf0b88ad10>"
      ]
     },
     "execution_count": 9,
     "metadata": {},
     "output_type": "execute_result"
    }
   ],
   "source": [
    "# Layer 1: Gray-shaded tracts with no White population\n",
    "folium.GeoJson(\n",
    "    null_tracts_w,\n",
    "    name=\"Non White Population\",\n",
    "    style_function=lambda feature: {\n",
    "        \"fillColor\": \"gray\",\n",
    "        \"color\": \"white\",\n",
    "        \"weight\": 0,\n",
    "        \"fillOpacity\": 0.7\n",
    "    }\n",
    ").add_to(m_w)"
   ]
  },
  {
   "cell_type": "code",
   "execution_count": 10,
   "id": "f3aefa73-3457-40d1-8b7b-5c38c2d52c3d",
   "metadata": {},
   "outputs": [
    {
     "data": {
      "text/plain": [
       "<folium.features.Choropleth at 0x7bcf10f77450>"
      ]
     },
     "execution_count": 10,
     "metadata": {},
     "output_type": "execute_result"
    }
   ],
   "source": [
    "# Layer 2: A choropleth map for tracts with a non-zero White population\n",
    "folium.Choropleth(\n",
    "    geo_data=nonnull_tracts_w,\n",
    "    name=\"White Population\",\n",
    "    data=nonnull_tracts_w,\n",
    "    columns=[\"FIPS\", \"White\"],\n",
    "    key_on=\"feature.properties.FIPS\",\n",
    "    fill_color=\"Blues\",\n",
    "    fill_opacity=0.7,\n",
    "    line_opacity=0,\n",
    "    legend_name=\"White Population\",\n",
    "    nan_fill_color=\"transparent\"\n",
    ").add_to(m_w)"
   ]
  },
  {
   "cell_type": "code",
   "execution_count": 11,
   "id": "248ed20f-d0a4-4ebb-b776-14c25d363031",
   "metadata": {},
   "outputs": [
    {
     "data": {
      "text/plain": [
       "<folium.features.GeoJson at 0x7bcf0ef02810>"
      ]
     },
     "execution_count": 11,
     "metadata": {},
     "output_type": "execute_result"
    }
   ],
   "source": [
    "# Layer 3: Census tract borders with tooltips showing detailed information\n",
    "folium.GeoJson(\n",
    "    tracts_race,\n",
    "    name=\"Borders\",\n",
    "    style_function=lambda feature: {\n",
    "        \"fillOpacity\": 0,\n",
    "        \"color\": \"white\",\n",
    "        \"weight\": 0.3\n",
    "    },\n",
    "    tooltip=folium.GeoJsonTooltip(fields=[\"FIPS\", \"White\"],\n",
    "                                   aliases=[\"Census Tract ID\", \"White Population\"],\n",
    "                                   localize=True)\n",
    ").add_to(m_w)"
   ]
  },
  {
   "cell_type": "code",
   "execution_count": 12,
   "id": "b19fdbc7-d393-47a8-8a22-cf5e9b1adeeb",
   "metadata": {},
   "outputs": [
    {
     "data": {
      "text/plain": [
       "<folium.map.LayerControl at 0x7bcf0f3cee50>"
      ]
     },
     "execution_count": 12,
     "metadata": {},
     "output_type": "execute_result"
    }
   ],
   "source": [
    "# Add the layer control and show the map\n",
    "folium.LayerControl().add_to(m_w)"
   ]
  },
  {
   "cell_type": "code",
   "execution_count": null,
   "id": "c140bff6-7b1b-4604-bfe7-5be3ff8a0313",
   "metadata": {},
   "outputs": [],
   "source": [
    "m_w"
   ]
  },
  {
   "cell_type": "markdown",
   "id": "778f5058-413a-45f3-946a-870eb8f62d18",
   "metadata": {},
   "source": [
    "### **Create a layered map of the Black or African American population**"
   ]
  },
  {
   "cell_type": "code",
   "execution_count": 13,
   "id": "eb709f60-3b60-484a-a510-dbb881650fc7",
   "metadata": {},
   "outputs": [],
   "source": [
    "# Set up the base map\n",
    "m_b = folium.Map(location=[center_lat, center_lon], tiles=\"cartodb positron\")\n",
    "m_b.fit_bounds([[miny, minx], [maxy, maxx]])"
   ]
  },
  {
   "cell_type": "code",
   "execution_count": 14,
   "id": "cbcbbc99-c320-4c33-b402-81fb50b92fa8",
   "metadata": {},
   "outputs": [
    {
     "name": "stdout",
     "output_type": "stream",
     "text": [
      "188\n"
     ]
    }
   ],
   "source": [
    "# Convert the Black or African American column to float type\n",
    "tracts_race[\"Black or African American\"] = tracts_race[\"Black or African American\"].astype(float)\n",
    "\n",
    "# Count the number of tracts where with no Black or African American population\n",
    "print((tracts_race[\"Black or African American\"] == 0).sum())"
   ]
  },
  {
   "cell_type": "code",
   "execution_count": 15,
   "id": "4693fc51-f060-4c92-8238-fa63d58f3f15",
   "metadata": {},
   "outputs": [],
   "source": [
    "# Split the data into two groups\n",
    "null_tracts_b = tracts_race[tracts_race[\"Black or African American\"] == 0]\n",
    "nonnull_tracts_b = tracts_race[tracts_race[\"Black or African American\"] != 0]"
   ]
  },
  {
   "cell_type": "code",
   "execution_count": 16,
   "id": "0c7b5891-b232-45ef-a16c-3c740fa92d36",
   "metadata": {},
   "outputs": [
    {
     "data": {
      "text/plain": [
       "<folium.map.LayerControl at 0x7bcf04b542d0>"
      ]
     },
     "execution_count": 16,
     "metadata": {},
     "output_type": "execute_result"
    }
   ],
   "source": [
    "# Layer 1: Gray-shaded tracts with no Black or African American population\n",
    "folium.GeoJson(\n",
    "    null_tracts_b,\n",
    "    name=\"Non Black or African American Population\",\n",
    "    style_function=lambda feature: {\n",
    "        \"fillColor\": \"gray\",\n",
    "        \"color\": \"white\",\n",
    "        \"weight\": 0,\n",
    "        \"fillOpacity\": 0.7\n",
    "    }\n",
    ").add_to(m_b)\n",
    "\n",
    "# Layer 2: A choropleth map for tracts with a non-zero Black or African American population\n",
    "folium.Choropleth(\n",
    "    geo_data=nonnull_tracts_b,\n",
    "    name=\"Black or African American Population\",\n",
    "    data=nonnull_tracts_b,\n",
    "    columns=[\"FIPS\", \"Black or African American\"],\n",
    "    key_on=\"feature.properties.FIPS\",\n",
    "    fill_color=\"Greens\",\n",
    "    fill_opacity=0.7,\n",
    "    line_opacity=0,\n",
    "    legend_name=\"Black or African American Population\",\n",
    "    nan_fill_color=\"transparent\"\n",
    ").add_to(m_b)\n",
    "\n",
    "# Layer 3: Census tract borders with tooltips showing detailed information\n",
    "folium.GeoJson(\n",
    "    tracts_race,\n",
    "    name=\"Borders\",\n",
    "    style_function=lambda feature: {\n",
    "        \"fillOpacity\": 0,\n",
    "        \"color\": \"white\",\n",
    "        \"weight\": 0.3\n",
    "    },\n",
    "    tooltip=folium.GeoJsonTooltip(\n",
    "        fields=[\"FIPS\", \"Black or African American\"],\n",
    "        aliases=[\"Census Tract ID\", \"Black or African American Population\"],\n",
    "        localize=True)\n",
    ").add_to(m_b)\n",
    "\n",
    "# Add the layer control and show the map\n",
    "folium.LayerControl().add_to(m_b)"
   ]
  },
  {
   "cell_type": "code",
   "execution_count": null,
   "id": "83866f23-5ff4-433e-9896-cf5ba8cae5ad",
   "metadata": {},
   "outputs": [],
   "source": [
    "m_b"
   ]
  },
  {
   "cell_type": "markdown",
   "id": "3efe47c1-4e70-4e3d-bd0a-d95f0c19ee86",
   "metadata": {},
   "source": [
    "### **Create a layered map of the American Indian and Alaska Native population**"
   ]
  },
  {
   "cell_type": "code",
   "execution_count": 17,
   "id": "0bca863e-3542-4efc-a960-4100a7847460",
   "metadata": {},
   "outputs": [],
   "source": [
    "# Set up the base map\n",
    "m_i = folium.Map(location=[center_lat, center_lon], tiles=\"cartodb positron\")\n",
    "m_i.fit_bounds([[miny, minx], [maxy, maxx]])"
   ]
  },
  {
   "cell_type": "code",
   "execution_count": 18,
   "id": "58f522b8-0f1c-4faa-be26-e978cf52cac6",
   "metadata": {},
   "outputs": [
    {
     "name": "stdout",
     "output_type": "stream",
     "text": [
      "724\n"
     ]
    }
   ],
   "source": [
    "# Convert the White column to float type\n",
    "tracts_race[\"American Indian and Alaska Native\"] = tracts_race[\"American Indian and Alaska Native\"].astype(float)\n",
    "\n",
    "# Count the number of tracts where with no American Indian and Alaska Native population\n",
    "print((tracts_race[\"American Indian and Alaska Native\"] == 0).sum())"
   ]
  },
  {
   "cell_type": "code",
   "execution_count": 19,
   "id": "05c6e6b4-ebef-4864-9a93-0e82a9f13b9e",
   "metadata": {},
   "outputs": [],
   "source": [
    "# Split the data into two groups\n",
    "null_tracts_i = tracts_race[tracts_race[\"American Indian and Alaska Native\"] == 0]\n",
    "nonnull_tracts_i = tracts_race[tracts_race[\"American Indian and Alaska Native\"] != 0]"
   ]
  },
  {
   "cell_type": "code",
   "execution_count": 20,
   "id": "89f25aef-79c1-4b2f-bee8-df6b8f76ecc5",
   "metadata": {},
   "outputs": [
    {
     "data": {
      "text/plain": [
       "<folium.map.LayerControl at 0x7bceff18c1d0>"
      ]
     },
     "execution_count": 20,
     "metadata": {},
     "output_type": "execute_result"
    }
   ],
   "source": [
    "# Layer 1: Gray-shaded tracts with no American Indian and Alaska Native population\n",
    "folium.GeoJson(\n",
    "    null_tracts_i,\n",
    "    name=\"Non American Indian and Alaska Native\",\n",
    "    style_function=lambda feature: {\n",
    "        \"fillColor\": \"gray\",\n",
    "        \"color\": \"white\",\n",
    "        \"weight\": 0,\n",
    "        \"fillOpacity\": 0.7\n",
    "    }\n",
    ").add_to(m_i)\n",
    "\n",
    "# Layer 2: A choropleth map for tracts with a non-zero American Indian and Alaska Native population\n",
    "folium.Choropleth(\n",
    "    geo_data=nonnull_tracts_i,\n",
    "    name=\"American Indian and Alaska Native Population\",\n",
    "    data=nonnull_tracts_i,\n",
    "    columns=[\"FIPS\", \"American Indian and Alaska Native\"],\n",
    "    key_on=\"feature.properties.FIPS\",\n",
    "    fill_color=\"Purples\",\n",
    "    fill_opacity=0.7,\n",
    "    line_opacity=0,\n",
    "    legend_name=\"American Indian and Alaska Native\",\n",
    "    nan_fill_color=\"transparent\"\n",
    ").add_to(m_i)\n",
    "\n",
    "# Layer 3: Census tract borders with tooltips showing detailed information\n",
    "folium.GeoJson(\n",
    "    tracts_race,\n",
    "    name=\"Borders\",\n",
    "    style_function=lambda feature: {\n",
    "        \"fillOpacity\": 0,\n",
    "        \"color\": \"white\",\n",
    "        \"weight\": 0.3\n",
    "    },\n",
    "    tooltip=folium.GeoJsonTooltip(fields=[\"FIPS\", \"American Indian and Alaska Native\"],\n",
    "                                  aliases=[\"Census Tract ID\", \"American Indian and Alaska Native Population\"],\n",
    "                                  localize=True)\n",
    ").add_to(m_i)\n",
    "\n",
    "# Add the layer control and show the map\n",
    "folium.LayerControl().add_to(m_i)"
   ]
  },
  {
   "cell_type": "code",
   "execution_count": null,
   "id": "52cbe3e9-3d5f-4e2f-95ab-7d6b8f264a34",
   "metadata": {},
   "outputs": [],
   "source": [
    "m_i"
   ]
  },
  {
   "cell_type": "code",
   "execution_count": 21,
   "id": "e43d5a36-8b39-4279-add3-5a22757c8999",
   "metadata": {},
   "outputs": [],
   "source": [
    "# Save the maps to HTMLs\n",
    "m_w.save('White Population.html')\n",
    "m_b.save('Black or African American Population.html')\n",
    "m_i.save('American Indian and Alaska Native Population.html')"
   ]
  }
 ],
 "metadata": {
  "kernelspec": {
   "display_name": "Python 3 (ipykernel)",
   "language": "python",
   "name": "python3"
  },
  "language_info": {
   "codemirror_mode": {
    "name": "ipython",
    "version": 3
   },
   "file_extension": ".py",
   "mimetype": "text/x-python",
   "name": "python",
   "nbconvert_exporter": "python",
   "pygments_lexer": "ipython3",
   "version": "3.11.9"
  }
 },
 "nbformat": 4,
 "nbformat_minor": 5
}
