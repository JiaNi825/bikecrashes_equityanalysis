{
 "cells": [
  {
   "cell_type": "markdown",
   "id": "ae4eb062-4230-4be7-b127-cc682909c290",
   "metadata": {},
   "source": [
    "# **Week 7 Correlation Analysis**\n",
    "### **Jia Ni**\n",
    "In this assignment, I incorporated the LA 2023 Bicycle Crashes data [TIMS](https://tims.berkeley.edu/tools/gismap/#), visualized the crash locations and density, and analyzed the relationship between crashes and racial diversity."
   ]
  },
  {
   "cell_type": "markdown",
   "id": "8eebaeb9-784d-4df8-8699-250ded26549e",
   "metadata": {},
   "source": [
    "### **Import the libraries**"
   ]
  },
  {
   "cell_type": "code",
   "execution_count": null,
   "id": "15753261-d68b-4cd6-96f2-9c5e3796e20a",
   "metadata": {},
   "outputs": [],
   "source": [
    "import pandas as pd\n",
    "import geopandas as gpd\n",
    "import folium\n",
    "import numpy as np"
   ]
  },
  {
   "cell_type": "markdown",
   "id": "48ba1a70-20ce-4039-b2fc-93553bbd01b0",
   "metadata": {},
   "source": [
    "### **Census tract data**"
   ]
  },
  {
   "cell_type": "code",
   "execution_count": null,
   "id": "7ea8b5b2-e0f4-41b9-86a6-d3098f469a9b",
   "metadata": {
    "scrolled": true
   },
   "outputs": [],
   "source": [
    "# Read file\n",
    "tracts_grouped = gpd.read_file(\"data/tracts_grouped.geojson\")\n",
    "tracts_grouped. info(verbose=True, show_counts=True)"
   ]
  },
  {
   "cell_type": "code",
   "execution_count": null,
   "id": "334df9d9-7e76-425d-a19a-775c3326811e",
   "metadata": {},
   "outputs": [],
   "source": [
    "race = pd.read_csv('data/2023_race_cleaned.csv', encoding = 'utf8', dtype = {'FIPS': str})\n",
    "race.info(verbose=True, show_counts=True)"
   ]
  },
  {
   "cell_type": "code",
   "execution_count": null,
   "id": "e5d9ed5e-b746-4664-b5c5-6d8685466c28",
   "metadata": {},
   "outputs": [],
   "source": [
    "# Identify mismatched FIPS\n",
    "tracts_fips = set(tracts_grouped[\"FIPS\"])\n",
    "race_fips = set(race[\"FIPS\"])\n",
    "extra_fips = tracts_fips - race_fips\n",
    "extra_fips"
   ]
  },
  {
   "cell_type": "code",
   "execution_count": null,
   "id": "a9806c42-8539-4d17-8ac8-77342c9d461b",
   "metadata": {
    "scrolled": true
   },
   "outputs": [],
   "source": [
    "# Remove them\n",
    "tracts_cleaned = tracts_grouped[~tracts_grouped[\"FIPS\"].isin(extra_fips)]\n",
    "\n",
    "# Output cleaned data\n",
    "tracts_cleaned.info(verbose=True, show_counts=True)"
   ]
  },
  {
   "cell_type": "code",
   "execution_count": null,
   "id": "cd855897-3b0d-4eae-a337-73c049943bd8",
   "metadata": {},
   "outputs": [],
   "source": [
    "tracts_cleaned. head()"
   ]
  },
  {
   "cell_type": "code",
   "execution_count": null,
   "id": "3977be1b-2614-411a-bc29-044d22357f68",
   "metadata": {},
   "outputs": [],
   "source": [
    "tracts_cleaned.to_file(\"data/tracts_cleaned.geojson\",driver=\"GeoJSON\")"
   ]
  },
  {
   "cell_type": "markdown",
   "id": "23cebba3-591d-46e0-b742-d73041851de0",
   "metadata": {},
   "source": [
    "### **Population Density**"
   ]
  },
  {
   "cell_type": "code",
   "execution_count": null,
   "id": "c70436c8-1154-47f0-ab97-b9dd813038af",
   "metadata": {},
   "outputs": [],
   "source": [
    "# Calculate the area of each census tract\n",
    "tracts_cleaned = tracts_cleaned.to_crs(epsg=3310)\n",
    "tracts_cleaned[\"area_sq_km\"] = tracts_cleaned.geometry.area / 1e6\n",
    "tracts_cleaned = tracts_cleaned.to_crs(epsg=4326)\n",
    "tracts_cleaned. head()"
   ]
  },
  {
   "cell_type": "code",
   "execution_count": null,
   "id": "e53c8312-845a-4639-a034-7d0961e58337",
   "metadata": {},
   "outputs": [],
   "source": [
    "# Read file\n",
    "population = pd.read_csv('data/2023_population_cleaned.csv', encoding = 'utf8', dtype = {'FIPS': str})\n",
    "population. head()"
   ]
  },
  {
   "cell_type": "code",
   "execution_count": null,
   "id": "5ec7452d-a515-49f1-917c-736359c10e7f",
   "metadata": {
    "scrolled": true
   },
   "outputs": [],
   "source": [
    "population[\"FIPS\"] = population[\"FIPS\"].str.zfill(11)\n",
    "population. head()"
   ]
  },
  {
   "cell_type": "code",
   "execution_count": null,
   "id": "81d3fd7a-6159-4b14-8ef7-2c2ef33ac727",
   "metadata": {},
   "outputs": [],
   "source": [
    "# Merge data\n",
    "population = tracts_cleaned.merge(population, on=\"FIPS\", how=\"left\")\n",
    "population = gpd.GeoDataFrame(population, geometry=\"geometry\")\n",
    "population.info(verbose=True, show_counts=True)"
   ]
  },
  {
   "cell_type": "code",
   "execution_count": null,
   "id": "7aee45a8-8bfa-4dee-b452-f6d6505d63a1",
   "metadata": {
    "scrolled": true
   },
   "outputs": [],
   "source": [
    "# Calculate the population density of each census tract\n",
    "population[\"Population density\"] = population[\"Total population\"] / population[\"area_sq_km\"]\n",
    "population. head()"
   ]
  },
  {
   "cell_type": "markdown",
   "id": "2fe5f0e6-66a5-4b7b-ad4c-e0cde450bc5d",
   "metadata": {},
   "source": [
    "### **Map of population density**"
   ]
  },
  {
   "cell_type": "code",
   "execution_count": null,
   "id": "6343e574-f258-4377-aef4-d0c32862af0b",
   "metadata": {
    "scrolled": true
   },
   "outputs": [],
   "source": [
    "# Set up the base map\n",
    "bounds = population.total_bounds\n",
    "minx, miny, maxx, maxy = bounds\n",
    "center_lat = (miny + maxy) / 2\n",
    "center_lon = (minx + maxx) / 2\n",
    "\n",
    "m_pd = folium.Map(location=[center_lat, center_lon], tiles=\"cartodb positron\")\n",
    "m_pd.fit_bounds([[miny, minx], [maxy, maxx]])"
   ]
  },
  {
   "cell_type": "code",
   "execution_count": null,
   "id": "3594c7a7-b4e3-4c90-9dae-5cfb009560e8",
   "metadata": {},
   "outputs": [],
   "source": [
    "# Count the number of tracts with no population\n",
    "print((population[\"Total population\"] == 0).sum())"
   ]
  },
  {
   "cell_type": "code",
   "execution_count": null,
   "id": "700723a1-dfe0-491f-9a4b-34cfcb715b89",
   "metadata": {},
   "outputs": [],
   "source": [
    "# Split the data into two groups\n",
    "null_tracts_tp = population[population[\"Total population\"] == 0]\n",
    "nonnull_tracts_tp = population[population[\"Total population\"] != 0]"
   ]
  },
  {
   "cell_type": "code",
   "execution_count": null,
   "id": "473e76f1-25ba-429a-9b67-71c6faad7f3d",
   "metadata": {},
   "outputs": [],
   "source": [
    "# Create the histogram of the weighted average age in LA\n",
    "import matplotlib.pyplot as plt\n",
    "\n",
    "plt.figure(figsize=(14, 8))\n",
    "plt.hist(nonnull_tracts_tp[\"Population density\"], bins=50, color=\"#ffda96\", edgecolor='#7a6845')\n",
    "\n",
    "plt.title(\"Distribution of Population Density in LA County\", fontsize=14, fontweight='bold', pad = 10)\n",
    "plt.xlabel(\"Population Density\", fontsize=12, fontweight='bold', labelpad = 10)\n",
    "plt.ylabel(\"Frequency\", fontsize=12, fontweight='bold', labelpad = 10)\n",
    "plt.grid(axis=\"y\", linestyle=\"--\", alpha=0.3)\n",
    "\n",
    "plt.savefig(\"Population Density_distribution.png\", dpi=300, bbox_inches=\"tight\")\n",
    "\n",
    "plt.show()"
   ]
  },
  {
   "cell_type": "code",
   "execution_count": null,
   "id": "c6c8b8db-27c7-4640-a0d2-45118db62d22",
   "metadata": {},
   "outputs": [],
   "source": [
    "# Layer 1: Gray-shaded tracts with no population\n",
    "folium.GeoJson(\n",
    "    null_tracts_tp,\n",
    "    name=\"Non Population\",\n",
    "    style_function=lambda feature: {\n",
    "        \"fillColor\": \"gray\",\n",
    "        \"color\": \"white\",\n",
    "        \"weight\": 0,\n",
    "        \"fillOpacity\": 0.7\n",
    "    }\n",
    ").add_to(m_pd)"
   ]
  },
  {
   "cell_type": "code",
   "execution_count": null,
   "id": "eeeeac3c-a7d2-4321-98e1-d204de770586",
   "metadata": {},
   "outputs": [],
   "source": [
    "# Layer 2: A choropleth map for tracts with a non-zero population\n",
    "\n",
    "# Define refined threshold scale for better visualization\n",
    "threshold_scale = [\n",
    "    nonnull_tracts_tp[\"Population density\"].min(),\n",
    "    nonnull_tracts_tp[\"Population density\"].quantile(0.05),\n",
    "    nonnull_tracts_tp[\"Population density\"].quantile(0.15),\n",
    "    nonnull_tracts_tp[\"Population density\"].quantile(0.30),\n",
    "    nonnull_tracts_tp[\"Population density\"].quantile(0.50),\n",
    "    nonnull_tracts_tp[\"Population density\"].quantile(0.70),\n",
    "    nonnull_tracts_tp[\"Population density\"].quantile(0.85),\n",
    "    nonnull_tracts_tp[\"Population density\"].quantile(0.95),\n",
    "    nonnull_tracts_tp[\"Population density\"].max(),\n",
    "]\n",
    "\n",
    "folium.Choropleth(\n",
    "    geo_data=nonnull_tracts_tp,\n",
    "    name=\"Population Density\",\n",
    "    data=nonnull_tracts_tp,\n",
    "    columns=[\"FIPS\", \"Population density\"],\n",
    "    key_on=\"feature.properties.FIPS\",\n",
    "    fill_color=\"YlOrRd\",\n",
    "    fill_opacity=0.7,\n",
    "    line_opacity=0,\n",
    "    legend_name=\"Population Density\",\n",
    "    nan_fill_color=\"transparent\",\n",
    "    threshold_scale=threshold_scale\n",
    ").add_to(m_pd)"
   ]
  },
  {
   "cell_type": "code",
   "execution_count": null,
   "id": "7582f124-d5c7-4774-9b41-deb9a314278f",
   "metadata": {},
   "outputs": [],
   "source": [
    "# Layer 3: Census tract borders with tooltips showing detailed information\n",
    "folium.GeoJson(\n",
    "    population,\n",
    "    name=\"Borders\",\n",
    "    style_function=lambda feature: {\n",
    "        \"fillOpacity\": 0,\n",
    "        \"color\": \"white\",\n",
    "        \"weight\": 0.3\n",
    "    },\n",
    "    tooltip=folium.GeoJsonTooltip(fields=[\"FIPS\", \"Population density\"],\n",
    "                                   aliases=[\"Census Tract ID\", \"Population Density\"],\n",
    "                                   localize=True)\n",
    ").add_to(m_pd)"
   ]
  },
  {
   "cell_type": "code",
   "execution_count": null,
   "id": "d3ee9d52-e2ca-4ae2-b268-0fb014caedd6",
   "metadata": {
    "scrolled": true
   },
   "outputs": [],
   "source": [
    "# Add the layer control and show the map\n",
    "folium.LayerControl().add_to(m_pd)\n",
    "m_pd"
   ]
  },
  {
   "cell_type": "markdown",
   "id": "15635e33-9570-4f86-89a4-ae7e1d2ef7f1",
   "metadata": {},
   "source": [
    "### **Crashes data**"
   ]
  },
  {
   "cell_type": "code",
   "execution_count": null,
   "id": "ccfad867-07ed-4a35-b3ba-138c0d7606db",
   "metadata": {
    "scrolled": true
   },
   "outputs": [],
   "source": [
    "# Read file\n",
    "crashes = pd.read_csv('data/crashes.csv', encoding = 'utf8', dtype = {'FIPS': str})\n",
    "crashes.info(verbose=True, show_counts=True)"
   ]
  },
  {
   "cell_type": "code",
   "execution_count": null,
   "id": "01c7fb22-4548-471a-af10-beb397a30278",
   "metadata": {},
   "outputs": [],
   "source": [
    "from shapely.geometry import Point"
   ]
  },
  {
   "cell_type": "code",
   "execution_count": null,
   "id": "4729b988-0294-49e8-b413-e5097b07e236",
   "metadata": {},
   "outputs": [],
   "source": [
    "# Convert crash locations into point geometries\n",
    "crashes[\"GEOMETRY\"] = crashes.apply(lambda row: Point(row[\"POINT_X\"], row[\"POINT_Y\"]), axis=1)\n",
    "crashes_geometry = gpd.GeoDataFrame(crashes, geometry=\"GEOMETRY\", crs=\"EPSG:4326\")\n",
    "print(crashes_geometry.crs)"
   ]
  },
  {
   "cell_type": "code",
   "execution_count": null,
   "id": "0f79c7d3-468c-4980-9d87-871e2fdf6186",
   "metadata": {},
   "outputs": [],
   "source": [
    "crashes_geometry.head()"
   ]
  },
  {
   "cell_type": "code",
   "execution_count": null,
   "id": "ae8ae47e-cf48-4029-8b65-a15e0f70e265",
   "metadata": {},
   "outputs": [],
   "source": [
    "# Extract\n",
    "columns_to_keep = ['CASE_ID',\n",
    "                   'COLLISION_DATE',\n",
    "                   'COLLISION_SEVERITY',\n",
    "                   'GEOMETRY']\n",
    "crashes_geometry = crashes_geometry[columns_to_keep]\n",
    "crashes_geometry.info()"
   ]
  },
  {
   "cell_type": "markdown",
   "id": "da0ef15b-9cfc-4f93-8a41-562a1cc6d0a5",
   "metadata": {},
   "source": [
    "### **Maps of bicycle crashes**"
   ]
  },
  {
   "cell_type": "code",
   "execution_count": null,
   "id": "cbd4bf64-5f60-4a23-807c-3307579b15cb",
   "metadata": {},
   "outputs": [],
   "source": [
    "# Set up the base map\n",
    "m_point = folium.Map(location=[center_lat, center_lon], tiles=\"cartodb positron\")\n",
    "m_point.fit_bounds([[miny, minx], [maxy, maxx]])"
   ]
  },
  {
   "cell_type": "code",
   "execution_count": null,
   "id": "c7be80d0-a4c0-4320-8312-908a10fc42b3",
   "metadata": {},
   "outputs": [],
   "source": [
    "# Define severity color mapping\n",
    "severity_colors = {\n",
    "    1: \"#a60e00\",\n",
    "    2: \"#de1200\",\n",
    "    3: \"#ff7359\",\n",
    "    4: \"#ff983d\"\n",
    "}"
   ]
  },
  {
   "cell_type": "code",
   "execution_count": null,
   "id": "4228ada7-8d52-4151-b0fe-38a206e8c9d8",
   "metadata": {
    "scrolled": true
   },
   "outputs": [],
   "source": [
    "# Map visualization\n",
    "for _, row in crashes_geometry.iterrows():\n",
    "    severity = row.COLLISION_SEVERITY\n",
    "    color = severity_colors.get(severity, \"blue\")\n",
    "\n",
    "    folium.CircleMarker(\n",
    "        location=[row.GEOMETRY.y, row.GEOMETRY.x],\n",
    "        radius=4,\n",
    "        color=\"transparent\",\n",
    "        fill=True,\n",
    "        fill_color=color,\n",
    "        fill_opacity=0.7,\n",
    "        weight=0,\n",
    "        popup=f\"Case ID: {row['CASE_ID']}<br>Date: {row['COLLISION_DATE']}<br>Severity: {row['COLLISION_SEVERITY']}\"\n",
    "    ).add_to(m_point)\n",
    "\n",
    "m_point"
   ]
  },
  {
   "cell_type": "code",
   "execution_count": null,
   "id": "a55d083a-b13b-4e3d-82b5-0a967a21e525",
   "metadata": {},
   "outputs": [],
   "source": [
    "from folium.plugins import HeatMap"
   ]
  },
  {
   "cell_type": "code",
   "execution_count": null,
   "id": "0128f6f3-2334-4f1c-85fb-148d8dd56417",
   "metadata": {},
   "outputs": [],
   "source": [
    "# Set up the base map\n",
    "m_heat = folium.Map(location=[center_lat, center_lon], tiles=\"cartodb positron\")\n",
    "m_heat.fit_bounds([[miny, minx], [maxy, maxx]])"
   ]
  },
  {
   "cell_type": "code",
   "execution_count": null,
   "id": "1520928f-e5ec-4a95-b2c2-3c5ae222e776",
   "metadata": {
    "scrolled": true
   },
   "outputs": [],
   "source": [
    "# \n",
    "crashes_geometry[\"lat\"] = crashes_geometry.geometry.y\n",
    "crashes_geometry[\"lon\"] = crashes_geometry.geometry.x\n",
    "\n",
    "#\n",
    "crashes_geometry[\"severity_weight\"] = 5 - crashes_geometry[\"COLLISION_SEVERITY\"]\n",
    "crashes_geometry[\"severity_weight\"] = crashes_geometry[\"severity_weight\"].astype(int)\n",
    "crashes_geometry.info()"
   ]
  },
  {
   "cell_type": "code",
   "execution_count": null,
   "id": "48d275fd-1f96-453d-b3b2-89ab4a13fc39",
   "metadata": {},
   "outputs": [],
   "source": [
    "#\n",
    "heat_data = crashes_geometry[[\"lat\", \"lon\", \"severity_weight\"]].values.tolist()\n",
    "\n",
    "HeatMap(\n",
    "    heat_data,\n",
    "    radius=20,\n",
    "    blur=10,\n",
    "    max_zoom=1,\n",
    "    min_opacity=0.1\n",
    ").add_to(m_heat)"
   ]
  },
  {
   "cell_type": "code",
   "execution_count": null,
   "id": "de395041-0640-446f-befd-cb105be76ddf",
   "metadata": {
    "scrolled": true
   },
   "outputs": [],
   "source": [
    "# Display\n",
    "m_heat"
   ]
  },
  {
   "cell_type": "markdown",
   "id": "eda4c810-a31e-4835-be1b-785f345f7c1b",
   "metadata": {},
   "source": [
    "### **Bicycle crash density analysis**"
   ]
  },
  {
   "cell_type": "code",
   "execution_count": null,
   "id": "1814c4b8-96af-41f6-82dc-3f0ce1129a92",
   "metadata": {},
   "outputs": [],
   "source": [
    "# Calculate the crash counts within each census tract\n",
    "crashes_within_tracts = gpd.sjoin(crashes_geometry, tracts_cleaned, how=\"left\", predicate=\"within\")"
   ]
  },
  {
   "cell_type": "code",
   "execution_count": null,
   "id": "70a6e654-d5da-40e4-901a-dfa252ba9add",
   "metadata": {},
   "outputs": [],
   "source": [
    "# Ensure compatibility and recalculate\n",
    "tracts_cleaned = tracts_cleaned.to_crs(epsg=4326)\n",
    "crashes_within_tracts = gpd.sjoin(crashes_geometry, tracts_cleaned, how=\"left\", predicate=\"within\")\n",
    "\n",
    "crash_counts = crashes_within_tracts.groupby(\"FIPS\").size().reset_index(name=\"crash_count\")\n",
    "crash_counts.info(verbose=True, show_counts=True)"
   ]
  },
  {
   "cell_type": "code",
   "execution_count": null,
   "id": "cf890b89-362e-4958-b14b-45e05e2f7a85",
   "metadata": {},
   "outputs": [],
   "source": [
    "# Merge data\n",
    "crashes_census_tract = tracts_cleaned.merge(crash_counts, on=\"FIPS\", how=\"left\").fillna(0)\n",
    "crashes_census_tract. head()"
   ]
  },
  {
   "cell_type": "code",
   "execution_count": null,
   "id": "f465a54a-b3b9-4d17-8955-a2a6fdfce962",
   "metadata": {},
   "outputs": [],
   "source": [
    "crashes_census_tract. info(verbose=True, show_counts=True)"
   ]
  },
  {
   "cell_type": "code",
   "execution_count": null,
   "id": "e5937f31-86d2-4676-82c1-2fa5c9c4eb73",
   "metadata": {
    "scrolled": true
   },
   "outputs": [],
   "source": [
    "# Merge data\n",
    "crashes_census_tract = crashes_census_tract.merge(population[['FIPS', 'Total population']], on=\"FIPS\", how=\"left\")\n",
    "crashes_census_tract. head()"
   ]
  },
  {
   "cell_type": "code",
   "execution_count": null,
   "id": "cce1b7e9-d3a1-4d71-814f-b38abef31c35",
   "metadata": {},
   "outputs": [],
   "source": [
    "# Count the number of tracts with no crash\n",
    "print((crashes_census_tract[\"crash_count\"] == 0).sum())\n",
    "\n",
    "# Count the number of tracts with no population\n",
    "print((crashes_census_tract[\"Total population\"] == 0).sum())"
   ]
  },
  {
   "cell_type": "code",
   "execution_count": null,
   "id": "074b302b-34df-4679-8da4-d9504a2b5b27",
   "metadata": {},
   "outputs": [],
   "source": [
    "# Calculate the crash density of each census tract\n",
    "crashes_census_tract[\"crash_density\"] = crashes_census_tract[\"crash_count\"] / crashes_census_tract[\"Total population\"] * 1000\n",
    "crashes_census_tract.info()"
   ]
  },
  {
   "cell_type": "code",
   "execution_count": null,
   "id": "4ebd6632-cdc1-4c2b-b6f9-e7a723520527",
   "metadata": {},
   "outputs": [],
   "source": [
    "invalid_density = crashes_census_tract[\n",
    "    crashes_census_tract[\"crash_density\"].isna() | \n",
    "    (crashes_census_tract[\"crash_density\"] == float(\"inf\"))\n",
    "]\n",
    "\n",
    "invalid_density"
   ]
  },
  {
   "cell_type": "code",
   "execution_count": null,
   "id": "7b7b38fb-b893-41bc-9680-dd33c91fa751",
   "metadata": {},
   "outputs": [],
   "source": [
    "crashes_census_tract[\"crash_density\"] = crashes_census_tract[\"crash_density\"].replace(float(\"inf\"), np.nan)\n",
    "crashes_census_tract.info()"
   ]
  },
  {
   "cell_type": "code",
   "execution_count": null,
   "id": "5d5820bb-2228-4d99-874a-c73f8c482227",
   "metadata": {},
   "outputs": [],
   "source": [
    "crashes_census_tract.to_file(\"data/crashes_census_tract.geojson\", driver=\"GeoJSON\")"
   ]
  },
  {
   "cell_type": "code",
   "execution_count": null,
   "id": "370ee1a0-9504-471b-9958-e9a9a6a4ad70",
   "metadata": {},
   "outputs": [],
   "source": [
    "# Split the data into two groups\n",
    "null_tracts_c = crashes_census_tract[(crashes_census_tract[\"crash_density\"] == 0) | (crashes_census_tract[\"crash_density\"].isna())]\n",
    "nonnull_tracts_c = crashes_census_tract[(crashes_census_tract[\"crash_density\"] != 0) & (~crashes_census_tract[\"crash_density\"].isna())]\n",
    "\n",
    "print(\"Null tracts count:\", len(null_tracts_c))\n",
    "print(\"Non-null tracts count:\", len(nonnull_tracts_c))"
   ]
  },
  {
   "cell_type": "code",
   "execution_count": null,
   "id": "342bbb70-22bf-4e5d-9035-4e294efe9dbf",
   "metadata": {
    "scrolled": true
   },
   "outputs": [],
   "source": [
    "nonnull_tracts_c.head()"
   ]
  },
  {
   "cell_type": "code",
   "execution_count": null,
   "id": "63769d50-b2a2-4ec7-b931-95d0960a2c17",
   "metadata": {},
   "outputs": [],
   "source": [
    "# Set up the base map\n",
    "m_c = folium.Map(location=[center_lat, center_lon], tiles=\"cartodb positron\")\n",
    "m_c.fit_bounds([[miny, minx], [maxy, maxx]])"
   ]
  },
  {
   "cell_type": "code",
   "execution_count": null,
   "id": "b076c899-128c-48e3-83f9-17e2d32c952b",
   "metadata": {},
   "outputs": [],
   "source": [
    "# Create a layered map of the crash density\n",
    "# Layer 1: White-shaded tracts with no crash\n",
    "folium.GeoJson(\n",
    "    null_tracts_c,\n",
    "    name=\"Non Bicycle Crash\",\n",
    "    style_function=lambda feature: {\n",
    "        \"fillColor\": \"white\",\n",
    "        \"color\": \"white\",\n",
    "        \"weight\": 0,\n",
    "        \"fillOpacity\": 0.7\n",
    "    }\n",
    ").add_to(m_c)"
   ]
  },
  {
   "cell_type": "code",
   "execution_count": null,
   "id": "53d877b2-9d9f-4081-8d24-3ebff7020803",
   "metadata": {},
   "outputs": [],
   "source": [
    "# Layer 2: A choropleth map for tracts with crashes\n",
    "\n",
    "# Define refined threshold scale for better visualization\n",
    "threshold_scale_c = [\n",
    "    nonnull_tracts_c[\"crash_density\"].min(),\n",
    "    nonnull_tracts_c[\"crash_density\"].quantile(0.05),\n",
    "    nonnull_tracts_c[\"crash_density\"].quantile(0.15),\n",
    "    nonnull_tracts_c[\"crash_density\"].quantile(0.30),\n",
    "    nonnull_tracts_c[\"crash_density\"].quantile(0.50),\n",
    "    nonnull_tracts_c[\"crash_density\"].quantile(0.70),\n",
    "    nonnull_tracts_c[\"crash_density\"].quantile(0.85),\n",
    "    nonnull_tracts_c[\"crash_density\"].quantile(0.95),\n",
    "    nonnull_tracts_c[\"crash_density\"].max(),\n",
    "]\n",
    "\n",
    "folium.Choropleth(\n",
    "    geo_data=nonnull_tracts_c,\n",
    "    name=\"Bicycle Crash Density\",\n",
    "    data=nonnull_tracts_c,\n",
    "    columns=[\"FIPS\", \"crash_density\"],\n",
    "    key_on=\"feature.properties.FIPS\",\n",
    "    fill_color=\"Reds\",\n",
    "    fill_opacity=0.7,\n",
    "    line_opacity=0,\n",
    "    legend_name=\"Bicycle Crash Density\",\n",
    "    nan_fill_color=\"transparent\",\n",
    "    threshold_scale=threshold_scale_c\n",
    ").add_to(m_c)"
   ]
  },
  {
   "cell_type": "code",
   "execution_count": null,
   "id": "ca9ee6fd-9e67-4add-9460-a88dc425e66c",
   "metadata": {},
   "outputs": [],
   "source": [
    "# Layer 3: Census tract borders with tooltips showing detailed information\n",
    "folium.GeoJson(\n",
    "    crashes_census_tract,\n",
    "    name=\"Borders\",\n",
    "    style_function=lambda feature: {\n",
    "        \"fillOpacity\": 0,\n",
    "        \"color\": \"white\",\n",
    "        \"weight\": 0.3\n",
    "    },\n",
    "    tooltip=folium.GeoJsonTooltip(fields=[\"FIPS\", \"crash_count\", \"crash_density\"],\n",
    "                                   aliases=[\"Census Tract ID\", \"Crash Count\", \"Crash Density\"],\n",
    "                                   localize=True)\n",
    ").add_to(m_c)"
   ]
  },
  {
   "cell_type": "code",
   "execution_count": null,
   "id": "dd876ef6-a80d-423b-a401-2b35fe9f913f",
   "metadata": {
    "scrolled": true
   },
   "outputs": [],
   "source": [
    "# Add the layer control and show the map\n",
    "folium.LayerControl().add_to(m_c)\n",
    "m_c"
   ]
  },
  {
   "cell_type": "code",
   "execution_count": null,
   "id": "4de8e362-e391-409e-b1bc-61feb99b0849",
   "metadata": {},
   "outputs": [],
   "source": [
    "# Find the outliers of crash density\n",
    "Q1 = nonnull_tracts_c[\"crash_density\"].quantile(0.25)\n",
    "Q3 = nonnull_tracts_c[\"crash_density\"].quantile(0.75)\n",
    "IQR = Q3 - Q1\n",
    "\n",
    "lower_bound = Q1 - 1.5 * IQR\n",
    "upper_bound = Q3 + 1.5 * IQR\n",
    "\n",
    "outliers_tract = nonnull_tracts_c[\n",
    "    (nonnull_tracts_c[\"crash_density\"] > upper_bound) | \n",
    "    (nonnull_tracts_c[\"crash_density\"] < lower_bound)\n",
    "]\n",
    "\n",
    "normal_tract = nonnull_tracts_c[\n",
    "    (nonnull_tracts_c[\"crash_density\"] <= upper_bound) & \n",
    "    (nonnull_tracts_c[\"crash_density\"] >= lower_bound)\n",
    "]"
   ]
  },
  {
   "cell_type": "code",
   "execution_count": null,
   "id": "85e19784-75b1-4eb1-a03f-1be9a18f0b4e",
   "metadata": {},
   "outputs": [],
   "source": [
    "outliers_tract.to_file(\"data/outliers_tract.geojson\", driver=\"GeoJSON\")\n",
    "normal_tract.to_file(\"data/normal_tract.geojson\", driver=\"GeoJSON\")"
   ]
  },
  {
   "cell_type": "code",
   "execution_count": null,
   "id": "56556dea-fc50-4c43-b259-9e77f70cc148",
   "metadata": {},
   "outputs": [],
   "source": [
    "# Set up the base map\n",
    "m_n = folium.Map(location=[center_lat, center_lon], tiles=\"cartodb positron\")\n",
    "m_n.fit_bounds([[miny, minx], [maxy, maxx]])"
   ]
  },
  {
   "cell_type": "code",
   "execution_count": null,
   "id": "bf7d6335-c333-4105-98a6-f239b143b174",
   "metadata": {},
   "outputs": [],
   "source": [
    "# Create a layered map of the crash density\n",
    "# Layer 1: White-shaded tracts with no crash\n",
    "folium.GeoJson(\n",
    "    null_tracts_c,\n",
    "    name=\"Non Bicycle Crash\",\n",
    "    style_function=lambda feature: {\n",
    "        \"fillColor\": \"white\",\n",
    "        \"color\": \"white\",\n",
    "        \"weight\": 0,\n",
    "        \"fillOpacity\": 0.7\n",
    "    }\n",
    ").add_to(m_n)"
   ]
  },
  {
   "cell_type": "code",
   "execution_count": null,
   "id": "3a367d1a-5031-46cf-b7b0-ee9fd3fb71bd",
   "metadata": {},
   "outputs": [],
   "source": [
    "# Layer 2: Dark red tracts with outliers\n",
    "folium.GeoJson(\n",
    "    outliers_tract,\n",
    "    name=\"Outliers Tracts\",\n",
    "    style_function=lambda feature: {\n",
    "        \"fillColor\": \"#c4a9a9\",\n",
    "        \"color\": \"white\",\n",
    "        \"weight\": 0,\n",
    "        \"fillOpacity\": 0.5\n",
    "    }\n",
    ").add_to(m_n)"
   ]
  },
  {
   "cell_type": "code",
   "execution_count": null,
   "id": "22f6ab03-4387-4d74-924e-61f4844e292d",
   "metadata": {},
   "outputs": [],
   "source": [
    "# Layer 3: A choropleth map for tracts with crashes\n",
    "threshold_scale_n = [\n",
    "    normal_tract[\"crash_density\"].min(),\n",
    "    normal_tract[\"crash_density\"].quantile(0.05),\n",
    "    normal_tract[\"crash_density\"].quantile(0.15),\n",
    "    normal_tract[\"crash_density\"].quantile(0.30),\n",
    "    normal_tract[\"crash_density\"].quantile(0.50),\n",
    "    normal_tract[\"crash_density\"].quantile(0.70),\n",
    "    normal_tract[\"crash_density\"].quantile(0.85),\n",
    "    normal_tract[\"crash_density\"].quantile(0.95),\n",
    "    normal_tract[\"crash_density\"].max(),\n",
    "]\n",
    "folium.Choropleth(\n",
    "    geo_data=normal_tract,\n",
    "    name=\"Bicycle Crash Density\",\n",
    "    data=normal_tract,\n",
    "    columns=[\"FIPS\", \"crash_density\"],\n",
    "    key_on=\"feature.properties.FIPS\",\n",
    "    fill_color=\"Reds\",\n",
    "    fill_opacity=0.7,\n",
    "    line_opacity=0,\n",
    "    legend_name=\"Bicycle Crash Density\",\n",
    "    nan_fill_color=\"transparent\"\n",
    ").add_to(m_n)"
   ]
  },
  {
   "cell_type": "code",
   "execution_count": null,
   "id": "7847f383-aa5e-4110-bb6a-e67141f85f7c",
   "metadata": {},
   "outputs": [],
   "source": [
    "# Layer 4: Census tract borders with tooltips showing detailed information\n",
    "folium.GeoJson(\n",
    "    crashes_census_tract,\n",
    "    name=\"Borders\",\n",
    "    style_function=lambda feature: {\n",
    "        \"fillOpacity\": 0,\n",
    "        \"color\": \"white\",\n",
    "        \"weight\": 0.3\n",
    "    },\n",
    "    tooltip=folium.GeoJsonTooltip(fields=[\"FIPS\", \"crash_count\", \"crash_density\"],\n",
    "                                   aliases=[\"Census Tract ID\", \"Crash Count\", \"Crash Density\"],\n",
    "                                   localize=True)\n",
    ").add_to(m_n)"
   ]
  },
  {
   "cell_type": "code",
   "execution_count": null,
   "id": "547b84df-cf1e-4643-be6b-2f722d4edc6c",
   "metadata": {
    "scrolled": true
   },
   "outputs": [],
   "source": [
    "# Add the layer control and show the map\n",
    "folium.LayerControl().add_to(m_n)\n",
    "m_n"
   ]
  },
  {
   "cell_type": "code",
   "execution_count": null,
   "id": "7cbc4503-6f53-4b97-9799-cf40729ae6f1",
   "metadata": {},
   "outputs": [],
   "source": [
    "# Save the maps to HTMLs\n",
    "m_pd.save('Population Density.html')\n",
    "m_heat.save('Population Density Heat Map.html')\n",
    "m_point.save('Crash Point.html')\n",
    "m_c.save('Crash Density.html')\n",
    "m_n.save('Crash Density-Adjusted.html')"
   ]
  },
  {
   "cell_type": "markdown",
   "id": "8fc66d88-2e45-420b-a51e-11ec6b692be8",
   "metadata": {},
   "source": [
    "### **Correlation analysis of race diversity and bicycle crash**"
   ]
  },
  {
   "cell_type": "code",
   "execution_count": null,
   "id": "e93566b6-c16d-4739-bd24-24f4ee323258",
   "metadata": {
    "scrolled": true
   },
   "outputs": [],
   "source": [
    "# Diversity index calculated in previous work\n",
    "index = gpd.read_file(\"data/tracts_shannon_index.geojson\")\n",
    "index. info(verbose=True, show_counts=True)"
   ]
  },
  {
   "cell_type": "code",
   "execution_count": null,
   "id": "337650d9-6609-46b5-a904-24a9bdfe24d1",
   "metadata": {},
   "outputs": [],
   "source": [
    "# Combine the diversity index and crash density across different census tracts\n",
    "crashes_index = nonnull_tracts_c.merge(index[['FIPS', 'Shannon_Wiener_Index']], on=\"FIPS\", how=\"inner\")\n",
    "crashes_index.head()"
   ]
  },
  {
   "cell_type": "code",
   "execution_count": null,
   "id": "c0475406-2205-4d97-9d21-de5ec0ce8b1f",
   "metadata": {},
   "outputs": [],
   "source": [
    "crashes_index.to_file(\"data/crashes_index.geojson\", driver=\"GeoJSON\")"
   ]
  },
  {
   "cell_type": "markdown",
   "id": "4e3a7082-c704-4344-9f48-efff4fc8db9f",
   "metadata": {},
   "source": [
    "### **Correlation analysis of race diversity and crash count**"
   ]
  },
  {
   "cell_type": "code",
   "execution_count": null,
   "id": "d9a95801-3a62-4648-afe8-0ebdef2e0b8e",
   "metadata": {},
   "outputs": [],
   "source": [
    "# Visualize the correlation for all the data using a scatter plot\n",
    "import plotly.express as px\n",
    "\n",
    "fig = px.scatter(\n",
    "    crashes_index,\n",
    "    x=\"crash_count\",\n",
    "    y=\"Shannon_Wiener_Index\",\n",
    "    trendline=\"ols\",\n",
    "    title=\"Correlation between Crash Count and Shannon_Wiener_Index\",\n",
    "    labels={\"crash_count\": \"Crash Count\", \"Shannon_Wiener_Index\": \"Shannon_Wiener_Index\"},\n",
    "    opacity=0.6\n",
    ")\n",
    "\n",
    "fig.show()"
   ]
  },
  {
   "cell_type": "code",
   "execution_count": null,
   "id": "6f85d0df-6042-4c52-8c4a-d8f20daf7211",
   "metadata": {},
   "outputs": [],
   "source": [
    "# Pearson correlation analysis\n",
    "import scipy.stats as stats\n",
    "\n",
    "corr_coeff, p_value = stats.pearsonr(crashes_index[\"crash_count\"], crashes_index[\"Shannon_Wiener_Index\"])\n",
    "\n",
    "print(f\"Pearson Correlation Coefficient: {corr_coeff:.4f}\")\n",
    "print(f\"P-value: {p_value:.4f}\")"
   ]
  },
  {
   "cell_type": "markdown",
   "id": "cf30530d-3890-45cf-b242-92d95e919380",
   "metadata": {},
   "source": [
    "### **Correlation analysis of race diversity and crash rate**"
   ]
  },
  {
   "cell_type": "code",
   "execution_count": null,
   "id": "48401207-2041-4b7f-ae8a-7f8697b2d894",
   "metadata": {},
   "outputs": [],
   "source": [
    "# Visualize the correlation for all the data using a scatter plot\n",
    "import plotly.express as px\n",
    "\n",
    "fig = px.scatter(\n",
    "    crashes_index,\n",
    "    x=\"crash_density\",\n",
    "    y=\"Shannon_Wiener_Index\",\n",
    "    trendline=\"ols\",\n",
    "    title=\"Correlation between Crash Density and Shannon-Wiener Index\",\n",
    "    labels={\"crash_density\": \"Crash Density\", \"Shannon_Wiener_Index\": \"Shannon-Wiener Index\"},\n",
    "    opacity=0.6\n",
    ")\n",
    "\n",
    "fig.show()"
   ]
  },
  {
   "cell_type": "code",
   "execution_count": null,
   "id": "5bcd7cd0-a046-4537-afbe-f1a866da0407",
   "metadata": {},
   "outputs": [],
   "source": [
    "# Pearson correlation analysis\n",
    "import scipy.stats as stats\n",
    "\n",
    "corr_coeff, p_value = stats.pearsonr(crashes_index[\"crash_density\"], crashes_index[\"Shannon_Wiener_Index\"])\n",
    "\n",
    "print(f\"Pearson Correlation Coefficient: {corr_coeff:.4f}\")\n",
    "print(f\"P-value: {p_value:.4f}\")"
   ]
  },
  {
   "cell_type": "markdown",
   "id": "dfe814c9-49cf-4313-a64f-70927bd0bee3",
   "metadata": {},
   "source": [
    "### **Correlation analysis of race diversity and normal crash rate**"
   ]
  },
  {
   "cell_type": "code",
   "execution_count": null,
   "id": "2f7e7cd5-0f6c-4b8a-b0d8-3d2889667690",
   "metadata": {},
   "outputs": [],
   "source": [
    "# Combine the diversity index and crash density across different census tracts excluding the outliers\n",
    "effective_data = normal_tract.merge(index, on=\"FIPS\", how=\"inner\")\n",
    "effective_data = effective_data.rename(columns={'geometry_x': 'geometry'})\n",
    "effective_data = effective_data.drop(columns=['geometry_y'])\n",
    "effective_data.info()"
   ]
  },
  {
   "cell_type": "code",
   "execution_count": null,
   "id": "83a91258-2279-4517-aa2b-99c468f5d9de",
   "metadata": {
    "scrolled": true
   },
   "outputs": [],
   "source": [
    "# Visualize the correlation excluding the outliers\n",
    "import plotly.express as px\n",
    "\n",
    "fig = px.scatter(\n",
    "    effective_data,\n",
    "    x=\"crash_density\",\n",
    "    y=\"Shannon_Wiener_Index\",\n",
    "    trendline=\"ols\",\n",
    "    title=\"Correlation between NormaCrash Density and Shannon-Wiener Index\",\n",
    "    labels={\"crash_density\": \"Crash Density\", \"Shannon_Wiener_Index\": \"Shannon-Wiener Index\"},\n",
    "    opacity=0.6\n",
    ")\n",
    "\n",
    "fig.show()"
   ]
  },
  {
   "cell_type": "code",
   "execution_count": null,
   "id": "13d59997-b53e-4ffb-84ec-0cedd5d1226e",
   "metadata": {},
   "outputs": [],
   "source": [
    "# Pearson correlation analysis\n",
    "import scipy.stats as stats\n",
    "\n",
    "corr_coeff, p_value = stats.pearsonr(effective_data[\"crash_density\"], effective_data[\"Shannon_Wiener_Index\"])\n",
    "\n",
    "print(f\"Pearson Correlation Coefficient: {corr_coeff:.4f}\")\n",
    "print(f\"P-value: {p_value:.4f}\")"
   ]
  }
 ],
 "metadata": {
  "kernelspec": {
   "display_name": "Python 3 (ipykernel)",
   "language": "python",
   "name": "python3"
  },
  "language_info": {
   "codemirror_mode": {
    "name": "ipython",
    "version": 3
   },
   "file_extension": ".py",
   "mimetype": "text/x-python",
   "name": "python",
   "nbconvert_exporter": "python",
   "pygments_lexer": "ipython3",
   "version": "3.11.9"
  }
 },
 "nbformat": 4,
 "nbformat_minor": 5
}
